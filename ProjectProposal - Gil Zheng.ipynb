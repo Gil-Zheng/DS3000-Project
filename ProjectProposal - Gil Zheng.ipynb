{
 "cells": [
  {
   "cell_type": "markdown",
   "metadata": {},
   "source": [
    "## Phase I Project Proposal\n",
    "### Can the Train Arrive Any Faster?\n",
    "#### Name: Gil Zheng, DS 3000\n"
   ]
  },
  {
   "cell_type": "markdown",
   "metadata": {},
   "source": [
    "### Introduction \n",
    "Where is the train? I'm going to be late for my first period class! Despite being the largest metro system in the United States, New York City's MTA suffers from major delays due to its aging infrastructure, maintenance issues, and unpredictable scheduling. The system is over a century years old and there are no current plans and fundings to make this system better -- all of the money is going to the upkept of the original system. Instead of waiting for the MTA to modernize, I can use public data to uncover patterns and to help commuters make good travel decisions. I'm interested in seeing which train line performs the worst and if the month of the year have any effects on the train service. Lastly, before the MTA it was separate rail companies: the IRT, BMT, and IND; hence the separate divisions (number lines vs letter lines), I want to see which division performs better as well. \n",
    "\n",
    "### Sources:\n",
    "https://gothamist.com/news/to-fund-nyc-subway-fixes-mta-must-undo-decades-of-distrust \n",
    "https://www.nytimes.com/2018/02/20/nyregion/mta-train-delays.html \n"
   ]
  },
  {
   "cell_type": "markdown",
   "metadata": {},
   "source": [
    "### Data Collection \n",
    "I plan to use the MTA's Open Data Program to access the MTA Subway Service Delivered During database. This database provides us with the month, division (lettered vs numbered), train line (A, C, E; 1, 2, 3, ...), the # of scheduled trains, the # of actual train delivers, and the lastly the percentage of train serviced delivered."
   ]
  },
  {
   "cell_type": "code",
   "execution_count": 4,
   "metadata": {},
   "outputs": [
    {
     "name": "stderr",
     "output_type": "stream",
     "text": [
      "WARNING:root:Requests made without an app_token will be subject to strict throttling limits.\n"
     ]
    },
    {
     "name": "stdout",
     "output_type": "stream",
     "text": [
      "                     month    division line day_type num_sched_trains  \\\n",
      "0  2024-12-01T00:00:00.000  A DIVISION    1        2             1482   \n",
      "1  2024-12-01T00:00:00.000  A DIVISION    1        1             1753   \n",
      "2  2024-12-01T00:00:00.000  A DIVISION    2        1             2330   \n",
      "3  2024-12-01T00:00:00.000  A DIVISION    2        2             1816   \n",
      "4  2024-12-01T00:00:00.000  A DIVISION    3        1             2163   \n",
      "\n",
      "  num_actual_trains service_delivered  \n",
      "0              1372          0.925776  \n",
      "1              1663         0.9486594  \n",
      "2              2181         0.9360515  \n",
      "3              1772        0.97577095  \n",
      "4              2074         0.9588534  \n"
     ]
    }
   ],
   "source": [
    "import pandas as pd\n",
    "from sodapy import Socrata\n",
    "\n",
    "client = Socrata(\"data.ny.gov\", None)\n",
    "#https://data.ny.gov/resource/bg59-42xi.json\n",
    "results = client.get(\"bg59-42xi\", limit=500)\n",
    "\n",
    "results_df = pd.DataFrame.from_records(results)\n",
    "\n",
    "# print(results_df.columns)\n",
    "print(results_df.head())\n"
   ]
  },
  {
   "cell_type": "markdown",
   "metadata": {},
   "source": [
    "### Data Usage\n",
    "The data is already cleaned and the data set is straight-foward. The data provides us with the month of the year and the service delivered percentage, I want to use linear regression to predict if the train service performs worse under colder months. A problem I have is the amount of data there is since there are so many trains -- I might select the most popular train lines in the two divisions to answer my question of IRT vs BMT. This can tell us the time period when to arrive to the train station earlier."
   ]
  }
 ],
 "metadata": {
  "kernelspec": {
   "display_name": "Python 3",
   "language": "python",
   "name": "python3"
  },
  "language_info": {
   "codemirror_mode": {
    "name": "ipython",
    "version": 3
   },
   "file_extension": ".py",
   "mimetype": "text/x-python",
   "name": "python",
   "nbconvert_exporter": "python",
   "pygments_lexer": "ipython3",
   "version": "3.11.5"
  }
 },
 "nbformat": 4,
 "nbformat_minor": 2
}
